{
 "cells": [
  {
   "cell_type": "markdown",
   "metadata": {},
   "source": [
    "## 数据预处理"
   ]
  },
  {
   "cell_type": "code",
   "execution_count": 1,
   "metadata": {},
   "outputs": [],
   "source": [
    "from sklearn import datasets"
   ]
  },
  {
   "cell_type": "code",
   "execution_count": 2,
   "metadata": {},
   "outputs": [],
   "source": [
    "import matplotlib.pyplot as plt\n",
    "\n",
    "digits = datasets.load_digits()"
   ]
  },
  {
   "cell_type": "code",
   "execution_count": 4,
   "metadata": {
    "scrolled": true
   },
   "outputs": [
    {
     "data": {
      "image/png": "[encoded data removed]",
      "text/plain": [
       "<Figure size 288x288 with 1 Axes>"
      ]
     },
     "metadata": {
      "needs_background": "light"
     },
     "output_type": "display_data"
    }
   ],
   "source": [
    "plt.matshow(digits.images[0])\n",
    "plt.show()"
   ]
  },
  {
   "cell_type": "code",
   "execution_count": 15,
   "metadata": {},
   "outputs": [
    {
     "data": {
      "image/png": "[encoded data removed]",
      "text/plain": [
       "<Figure size 432x288 with 1 Axes>"
      ]
     },
     "metadata": {
      "needs_background": "light"
     },
     "output_type": "display_data"
    }
   ],
   "source": [
    "data, label = datasets.make_blobs(n_samples=100, n_features=2, centers=5)\n",
    "\n",
    "plt.scatter(data[:, 0], data[:, 1], c=label)\n",
    "plt.show()"
   ]
  },
  {
   "cell_type": "code",
   "execution_count": 16,
   "metadata": {},
   "outputs": [
    {
     "name": "stdout",
     "output_type": "stream",
     "text": [
      "[0.25 0.75]\n",
      "[0.6875 0.6875]\n"
     ]
    }
   ],
   "source": [
    "from sklearn import preprocessing\n",
    "data = [[0, 0], [1, 0], [-1, 1], [1, 2]]"
   ]
  },
  {
   "cell_type": "code",
   "execution_count": 18,
   "metadata": {},
   "outputs": [
    {
     "name": "stdout",
     "output_type": "stream",
     "text": [
      "[0.25 0.75]\n",
      "[0.6875 0.6875]\n"
     ]
    },
    {
     "data": {
      "text/plain": [
       "array([[-0.30151134, -0.90453403],\n",
       "       [ 0.90453403, -0.90453403],\n",
       "       [-1.50755672,  0.30151134],\n",
       "       [ 0.90453403,  1.50755672]])"
      ]
     },
     "execution_count": 18,
     "metadata": {},
     "output_type": "execute_result"
    }
   ],
   "source": [
    "# 最小最大值标准化\n",
    "scalerstd = preprocessing.StandardScaler().fit(data)\n",
    "print(scalerstd.mean_)\n",
    "print(scalerstd.var_)\n",
    "scalerstd.transform(data)"
   ]
  },
  {
   "cell_type": "code",
   "execution_count": 20,
   "metadata": {},
   "outputs": [
    {
     "data": {
      "text/plain": [
       "array([[0.5, 0. ],\n",
       "       [1. , 0. ],\n",
       "       [0. , 0.5],\n",
       "       [1. , 1. ]])"
      ]
     },
     "execution_count": 20,
     "metadata": {},
     "output_type": "execute_result"
    }
   ],
   "source": [
    "# 标准差标准化\n",
    "scalermm = preprocessing.MinMaxScaler(feature_range=(0,1)).fit(data)\n",
    "scalermm.transform(data)"
   ]
  },
  {
   "cell_type": "code",
   "execution_count": 30,
   "metadata": {},
   "outputs": [
    {
     "data": {
      "text/plain": [
       "array([[ 0.40824829, -0.40824829,  0.81649658],\n",
       "       [ 1.        ,  0.        ,  0.        ],\n",
       "       [ 0.        ,  0.70710678, -0.70710678]])"
      ]
     },
     "execution_count": 30,
     "metadata": {},
     "output_type": "execute_result"
    }
   ],
   "source": [
    "# L2正则变换，防止过拟合\n",
    "X = [[ 1., -1.,  2.],\n",
    "    [ 2.,  0.,  0.],\n",
    "    [ 0.,  1., -1.]]\n",
    "    \n",
    "scalernorm = preprocessing.Normalizer(norm='l2').fit(X)\n",
    "scalernorm.transform(X)"
   ]
  },
  {
   "cell_type": "code",
   "execution_count": 31,
   "metadata": {},
   "outputs": [
    {
     "data": {
      "text/plain": [
       "array([[1., 0., 1., 0., 0., 0., 0., 0., 1.],\n",
       "       [0., 1., 0., 1., 0., 1., 0., 0., 0.],\n",
       "       [1., 0., 0., 0., 1., 0., 1., 0., 0.],\n",
       "       [0., 1., 1., 0., 0., 0., 0., 1., 0.]])"
      ]
     },
     "execution_count": 31,
     "metadata": {},
     "output_type": "execute_result"
    }
   ],
   "source": [
    "# OneHotEncoder编码\n",
    "data = [[0, 0, 3], [1, 1, 0], [0, 2, 1], [1, 0, 2]]\n",
    "\n",
    "scaleronehot = preprocessing.OneHotEncoder().fit(data)\n",
    "scaleronehot.transform(data).toarray()"
   ]
  },
  {
   "cell_type": "code",
   "execution_count": 33,
   "metadata": {},
   "outputs": [
    {
     "name": "stdout",
     "output_type": "stream",
     "text": [
      "['amsterdam', 'paris', 'tokyo']\n"
     ]
    },
    {
     "data": {
      "text/plain": [
       "array([2, 2, 1])"
      ]
     },
     "execution_count": 33,
     "metadata": {},
     "output_type": "execute_result"
    }
   ],
   "source": [
    "# LabelEncoder编码\n",
    "le = preprocessing.LabelEncoder().fit([\"paris\", \"paris\", \"tokyo\", \"amsterdam\"])\n",
    "print(list(le.classes_))\n",
    "le.transform([\"tokyo\", \"tokyo\", \"paris\"])"
   ]
  },
  {
   "cell_type": "code",
   "execution_count": 32,
   "metadata": {},
   "outputs": [
    {
     "name": "stdout",
     "output_type": "stream",
     "text": [
      "0      (0, 61]\n",
      "1      (0, 61]\n",
      "2    (80, 100]\n",
      "Name: sorce, dtype: category\n",
      "Categories (3, interval[int64]): [(0, 61] < (61, 80] < (80, 100]]\n",
      "0    不及格\n",
      "1     及格\n",
      "2     优秀\n",
      "Name: sorce, dtype: category\n",
      "Categories (3, object): [不及格 < 及格 < 优秀]\n",
      "   sorce_不及格  sorce_及格  sorce_优秀\n",
      "0          1         0         0\n",
      "1          0         1         0\n",
      "2          0         0         1\n"
     ]
    }
   ],
   "source": [
    "import pandas as pd\n",
    "df = pd.DataFrame({\"key\":['green','red', 'blue'],\n",
    "            \"data1\":['a','b','c'],\"sorce\": [33,61,99]})\n",
    "\n",
    "bins=[0,61,80,100]\n",
    "cats=pd.cut(df[\"sorce\"],bins)\n",
    "print(cats)\n",
    "group_name=[\"不及格\",\"及格\",\"优秀\"]\n",
    "cats2=pd.cut(df[\"sorce\"],bins,labels=group_name,right=False)\n",
    "print(cats2)\n",
    "print(pd.get_dummies(cats2,prefix=\"sorce\"))"
   ]
  },
  {
   "cell_type": "markdown",
   "metadata": {},
   "source": [
    "## 数据拆分"
   ]
  },
  {
   "cell_type": "code",
   "execution_count": 44,
   "metadata": {},
   "outputs": [
    {
     "name": "stdout",
     "output_type": "stream",
     "text": [
      "(506, 13)\n",
      "(354, 13)\n",
      "(354,)\n",
      "(152, 13)\n",
      "(152,)\n"
     ]
    }
   ],
   "source": [
    "# train_test_split\n",
    "from sklearn import model_selection\n",
    "dataset = datasets.load_boston()\n",
    "print(dataset.data.shape)\n",
    "X_train, X_test, y_train, y_test = model_selection.train_test_split(dataset['data'], dataset['target'], \n",
    "                                                                    test_size=0.3)\n",
    "print(X_train.shape)\n",
    "print(y_train.shape)\n",
    "print(X_test.shape)\n",
    "print(y_test.shape)"
   ]
  },
  {
   "cell_type": "code",
   "execution_count": 50,
   "metadata": {},
   "outputs": [
    {
     "name": "stdout",
     "output_type": "stream",
     "text": [
      "[2 3 4 5] [0 1]\n",
      "[0 1 4 5] [2 3]\n",
      "[0 1 2 3] [4 5]\n",
      "['a' 'b' 'c' 'd' 'e' 'f']\n"
     ]
    }
   ],
   "source": [
    "# Kfold\n",
    "import numpy as np\n",
    "X = np.array(['a', 'b', 'c', 'd','e','f'])\n",
    "kf = model_selection.KFold(n_splits=3)\n",
    "k_list = kf.split(X)\n",
    "for train,test in k_list:\n",
    "    print(train,test)\n",
    "\n",
    "print(X)"
   ]
  },
  {
   "cell_type": "markdown",
   "metadata": {},
   "source": [
    "## 模型使用"
   ]
  },
  {
   "cell_type": "code",
   "execution_count": 52,
   "metadata": {},
   "outputs": [
    {
     "data": {
      "text/plain": [
       "LinearRegression(n_jobs=1)"
      ]
     },
     "execution_count": 52,
     "metadata": {},
     "output_type": "execute_result"
    }
   ],
   "source": [
    "# LinearRegression\n",
    "from sklearn.linear_model import LinearRegression\n",
    "model = LinearRegression(fit_intercept=True, normalize=False,copy_X=True, n_jobs=1)\n",
    "model"
   ]
  },
  {
   "cell_type": "code",
   "execution_count": 53,
   "metadata": {},
   "outputs": [],
   "source": [
    "X,y = datasets.load_boston(return_X_y=True)\n",
    "X_train, X_test, y_train, y_test = model_selection.train_test_split(X, y, test_size=0.3)"
   ]
  },
  {
   "cell_type": "code",
   "execution_count": 54,
   "metadata": {},
   "outputs": [
    {
     "data": {
      "text/plain": [
       "LinearRegression(n_jobs=1)"
      ]
     },
     "execution_count": 54,
     "metadata": {},
     "output_type": "execute_result"
    }
   ],
   "source": [
    "model.fit(X_train, y_train)"
   ]
  },
  {
   "cell_type": "code",
   "execution_count": 55,
   "metadata": {},
   "outputs": [
    {
     "name": "stdout",
     "output_type": "stream",
     "text": [
      "18.68457938196577\n"
     ]
    }
   ],
   "source": [
    "y_predict = model.predict(X_test)\n",
    "mse = np.sum((y_predict-y_test)**2)/len(y_predict)\n",
    "print(mse)"
   ]
  },
  {
   "cell_type": "code",
   "execution_count": 57,
   "metadata": {},
   "outputs": [
    {
     "data": {
      "text/plain": [
       "0.7580218467738252"
      ]
     },
     "execution_count": 57,
     "metadata": {},
     "output_type": "execute_result"
    }
   ],
   "source": [
    "from sklearn.metrics import r2_score #R square\n",
    "r2_score(y_test,y_predict)"
   ]
  }
 ],
 "metadata": {
  "kernelspec": {
   "display_name": "Python 3",
   "language": "python",
   "name": "python3"
  },
  "language_info": {
   "codemirror_mode": {
    "name": "ipython",
    "version": 3
   },
   "file_extension": ".py",
   "mimetype": "text/x-python",
   "name": "python",
   "nbconvert_exporter": "python",
   "pygments_lexer": "ipython3",
   "version": "3.7.9"
  }
 },
 "nbformat": 4,
 "nbformat_minor": 4
}
