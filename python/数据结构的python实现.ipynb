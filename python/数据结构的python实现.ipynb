{
 "cells": [
  {
   "cell_type": "markdown",
   "metadata": {},
   "source": [
    "## 1、链表实现"
   ]
  },
  {
   "cell_type": "code",
   "execution_count": 2,
   "metadata": {},
   "outputs": [],
   "source": [
    "class Node:\n",
    "    def __init__(self,initdata):\n",
    "        self.data=initdata#把初始项传进去，且下一节点设置为空\n",
    "        self.next=None\n",
    "    def getData(self):\n",
    "        return self.data  #返回数据项\n",
    "    def getNext(self):\n",
    "        return self.next  #返回下一个节点\n",
    "    def setData(self,newdata):\n",
    "        self.data=newdata #修改数据项\n",
    "    def setNext(self,newnext):\n",
    "        self.next=newnext#修改下一个节点的指向引用"
   ]
  },
  {
   "cell_type": "code",
   "execution_count": 6,
   "metadata": {},
   "outputs": [
    {
     "data": {
      "text/plain": [
       "93"
      ]
     },
     "execution_count": 6,
     "metadata": {},
     "output_type": "execute_result"
    }
   ],
   "source": [
    "temp = Node(93)\n",
    "temp.getData()"
   ]
  },
  {
   "cell_type": "markdown",
   "metadata": {},
   "source": [
    "## 2、链表实现无序列表"
   ]
  },
  {
   "cell_type": "code",
   "execution_count": 7,
   "metadata": {},
   "outputs": [],
   "source": [
    "class UnorderedList:\n",
    "    def __init__(self):\n",
    "        self.head=None\n",
    "        \n",
    "    def add(self,item):\n",
    "        temp=Node(item)\n",
    "        temp.setNext(self.head)\n",
    "        self.head=temp\n",
    "        \n",
    "    def size(self):\n",
    "        current=self.head\n",
    "        count=0\n",
    "        while current != None:\n",
    "            count=count+1\n",
    "            current=current.getNext()\n",
    "        return count\n",
    "    \n",
    "    def search(self,item):\n",
    "        current=self.head\n",
    "        isOK=False\n",
    "        while current !=None and not isOK:\n",
    "            if current.getData()==item:\n",
    "                isOK=True\n",
    "            else:\n",
    "                current=current.getNext()\n",
    "        return isOK\n",
    "    \n",
    "    def remove(self,item):\n",
    "        previous=None\n",
    "        current=self.head\n",
    "        found=False\n",
    "        while not found:\n",
    "            if current.getData()==item:\n",
    "                found=True\n",
    "            else:\n",
    "                previous=current\n",
    "                current=current.getNext()\n",
    "        if previous==None:\n",
    "            self.head=current.getNext()\n",
    "        else:\n",
    "            previous.setNext(current.getNext())"
   ]
  },
  {
   "cell_type": "code",
   "execution_count": 35,
   "metadata": {},
   "outputs": [
    {
     "name": "stdout",
     "output_type": "stream",
     "text": [
      "3\n"
     ]
    }
   ],
   "source": [
    "mylist=UnorderedList()\n",
    "mylist.add(111)\n",
    "mylist.add(112)\n",
    "mylist.add(113)\n",
    "print(mylist.size())"
   ]
  },
  {
   "cell_type": "code",
   "execution_count": 36,
   "metadata": {},
   "outputs": [
    {
     "data": {
      "text/plain": [
       "113"
      ]
     },
     "execution_count": 36,
     "metadata": {},
     "output_type": "execute_result"
    }
   ],
   "source": [
    "mylist.head.data"
   ]
  },
  {
   "cell_type": "code",
   "execution_count": 38,
   "metadata": {},
   "outputs": [
    {
     "data": {
      "text/plain": [
       "112"
      ]
     },
     "execution_count": 38,
     "metadata": {},
     "output_type": "execute_result"
    }
   ],
   "source": [
    "mylist.head.next.data"
   ]
  },
  {
   "cell_type": "code",
   "execution_count": 40,
   "metadata": {},
   "outputs": [
    {
     "data": {
      "text/plain": [
       "111"
      ]
     },
     "execution_count": 40,
     "metadata": {},
     "output_type": "execute_result"
    }
   ],
   "source": [
    "mylist.head.next.next.data"
   ]
  },
  {
   "cell_type": "code",
   "execution_count": 43,
   "metadata": {},
   "outputs": [
    {
     "data": {
      "text/plain": [
       "False"
      ]
     },
     "execution_count": 43,
     "metadata": {},
     "output_type": "execute_result"
    }
   ],
   "source": [
    "mylist.search(114)"
   ]
  },
  {
   "cell_type": "code",
   "execution_count": 44,
   "metadata": {},
   "outputs": [],
   "source": [
    "mylist.remove(112)"
   ]
  },
  {
   "cell_type": "code",
   "execution_count": 45,
   "metadata": {},
   "outputs": [
    {
     "data": {
      "text/plain": [
       "113"
      ]
     },
     "execution_count": 45,
     "metadata": {},
     "output_type": "execute_result"
    }
   ],
   "source": [
    "mylist.head.data"
   ]
  },
  {
   "cell_type": "code",
   "execution_count": 46,
   "metadata": {},
   "outputs": [
    {
     "data": {
      "text/plain": [
       "111"
      ]
     },
     "execution_count": 46,
     "metadata": {},
     "output_type": "execute_result"
    }
   ],
   "source": [
    "mylist.head.next.data"
   ]
  },
  {
   "cell_type": "markdown",
   "metadata": {},
   "source": [
    "## 3、散列表(Hash table)"
   ]
  },
  {
   "cell_type": "code",
   "execution_count": 11,
   "metadata": {},
   "outputs": [],
   "source": [
    "class HashTable():\n",
    "    def __init__(self):\n",
    "        self.size=11\n",
    "        self.slots=[None]*self.size\n",
    "        self.data=[None]*self.size\n",
    "        \n",
    "    def __getitem__(self,key):\n",
    "        return self.get(key)\n",
    "    \n",
    "    def __setitem__(self,key,data):\n",
    "        self.put(key,data)\n",
    "        \n",
    "    def hashfunction(self,key):\n",
    "        sum=0\n",
    "        for pos in range(len(key)):\n",
    "            sum=sum+ord(key[pos])\n",
    "        return sum%self.size\n",
    "    def rehash(self,oldhash):\n",
    "        return (oldhash+1)% self.size\n",
    "    def put(self,key,data):\n",
    "        if None not in self.slots:\n",
    "            raise Exception('table slots are full filled')\n",
    "        hashvalue=self.hashfunction(key)\n",
    "        #key不存在，未冲突\n",
    "        if self.slots[hashvalue]==None:\n",
    "            self.slots[hashvalue]=key\n",
    "            self.data[hashvalue]=data\n",
    "        else:#key已经存在，替换val\n",
    "            if self.slots[hashvalue]==key:\n",
    "               self.data[hashvalue]=data#replace\n",
    "            else:#散列冲突，再散列，知道找到空槽或者key\n",
    "                nextslot=self.rehash(hashvalue)\n",
    "                while self.slots[nextslot]!=None and self.slots[nextslot]!=key:\n",
    "                    nextslot=self.rehash(nextslot)\n",
    "                if self.slots[nextslot]==None:\n",
    "                    self.slots[nextslot]=key\n",
    "                    self.data[nextslot]=data\n",
    "                else:\n",
    "                    self.data[nextslot]=data\n",
    "                  \n",
    "    def get(self,key):\n",
    "        #标记散列值为查找起点\n",
    "        startslot=self.hashfunction(key)\n",
    "        data =None\n",
    "        stop=False\n",
    "        found=False\n",
    "        position=startslot\n",
    "        #找到key，直到空槽或者回到起点\n",
    "        while self.slots[position]!=None and not found and not stop:\n",
    "            if self.slots[position]==key:\n",
    "                found=True\n",
    "                data=self.data[position]\n",
    "            else:\n",
    "                position=self.rehash(position)#未找到key，再散列继续找\n",
    "                if position==startslot:\n",
    "                    stop=True#回到起点，停\n",
    "        return data\n"
   ]
  },
  {
   "cell_type": "code",
   "execution_count": 12,
   "metadata": {},
   "outputs": [],
   "source": [
    "ht = HashTable()"
   ]
  },
  {
   "cell_type": "code",
   "execution_count": 13,
   "metadata": {},
   "outputs": [
    {
     "ename": "Exception",
     "evalue": "table slots are full filled",
     "output_type": "error",
     "traceback": [
      "\u001b[0;31m---------------------------------------------------------------------------\u001b[0m",
      "\u001b[0;31mException\u001b[0m                                 Traceback (most recent call last)",
      "\u001b[0;32m<ipython-input-13-c233f3609884>\u001b[0m in \u001b[0;36m<module>\u001b[0;34m\u001b[0m\n\u001b[1;32m      1\u001b[0m \u001b[0;32mfor\u001b[0m \u001b[0mi\u001b[0m \u001b[0;32min\u001b[0m \u001b[0mrange\u001b[0m\u001b[0;34m(\u001b[0m\u001b[0;36m20\u001b[0m\u001b[0;34m)\u001b[0m\u001b[0;34m:\u001b[0m\u001b[0;34m\u001b[0m\u001b[0;34m\u001b[0m\u001b[0m\n\u001b[0;32m----> 2\u001b[0;31m     \u001b[0mht\u001b[0m\u001b[0;34m[\u001b[0m\u001b[0;34mf\"{i}\"\u001b[0m\u001b[0;34m]\u001b[0m \u001b[0;34m=\u001b[0m \u001b[0mi\u001b[0m\u001b[0;34m\u001b[0m\u001b[0;34m\u001b[0m\u001b[0m\n\u001b[0m",
      "\u001b[0;32m<ipython-input-11-740cfa11597b>\u001b[0m in \u001b[0;36m__setitem__\u001b[0;34m(self, key, data)\u001b[0m\n\u001b[1;32m      9\u001b[0m \u001b[0;34m\u001b[0m\u001b[0m\n\u001b[1;32m     10\u001b[0m     \u001b[0;32mdef\u001b[0m \u001b[0m__setitem__\u001b[0m\u001b[0;34m(\u001b[0m\u001b[0mself\u001b[0m\u001b[0;34m,\u001b[0m\u001b[0mkey\u001b[0m\u001b[0;34m,\u001b[0m\u001b[0mdata\u001b[0m\u001b[0;34m)\u001b[0m\u001b[0;34m:\u001b[0m\u001b[0;34m\u001b[0m\u001b[0;34m\u001b[0m\u001b[0m\n\u001b[0;32m---> 11\u001b[0;31m         \u001b[0mself\u001b[0m\u001b[0;34m.\u001b[0m\u001b[0mput\u001b[0m\u001b[0;34m(\u001b[0m\u001b[0mkey\u001b[0m\u001b[0;34m,\u001b[0m\u001b[0mdata\u001b[0m\u001b[0;34m)\u001b[0m\u001b[0;34m\u001b[0m\u001b[0;34m\u001b[0m\u001b[0m\n\u001b[0m\u001b[1;32m     12\u001b[0m \u001b[0;34m\u001b[0m\u001b[0m\n\u001b[1;32m     13\u001b[0m     \u001b[0;32mdef\u001b[0m \u001b[0mhashfunction\u001b[0m\u001b[0;34m(\u001b[0m\u001b[0mself\u001b[0m\u001b[0;34m,\u001b[0m\u001b[0mkey\u001b[0m\u001b[0;34m)\u001b[0m\u001b[0;34m:\u001b[0m\u001b[0;34m\u001b[0m\u001b[0;34m\u001b[0m\u001b[0m\n",
      "\u001b[0;32m<ipython-input-11-740cfa11597b>\u001b[0m in \u001b[0;36mput\u001b[0;34m(self, key, data)\u001b[0m\n\u001b[1;32m     20\u001b[0m     \u001b[0;32mdef\u001b[0m \u001b[0mput\u001b[0m\u001b[0;34m(\u001b[0m\u001b[0mself\u001b[0m\u001b[0;34m,\u001b[0m\u001b[0mkey\u001b[0m\u001b[0;34m,\u001b[0m\u001b[0mdata\u001b[0m\u001b[0;34m)\u001b[0m\u001b[0;34m:\u001b[0m\u001b[0;34m\u001b[0m\u001b[0;34m\u001b[0m\u001b[0m\n\u001b[1;32m     21\u001b[0m         \u001b[0;32mif\u001b[0m \u001b[0;32mNone\u001b[0m \u001b[0;32mnot\u001b[0m \u001b[0;32min\u001b[0m \u001b[0mself\u001b[0m\u001b[0;34m.\u001b[0m\u001b[0mslots\u001b[0m\u001b[0;34m:\u001b[0m\u001b[0;34m\u001b[0m\u001b[0;34m\u001b[0m\u001b[0m\n\u001b[0;32m---> 22\u001b[0;31m             \u001b[0;32mraise\u001b[0m \u001b[0mException\u001b[0m\u001b[0;34m(\u001b[0m\u001b[0;34m'table slots are full filled'\u001b[0m\u001b[0;34m)\u001b[0m\u001b[0;34m\u001b[0m\u001b[0;34m\u001b[0m\u001b[0m\n\u001b[0m\u001b[1;32m     23\u001b[0m         \u001b[0mhashvalue\u001b[0m\u001b[0;34m=\u001b[0m\u001b[0mself\u001b[0m\u001b[0;34m.\u001b[0m\u001b[0mhashfunction\u001b[0m\u001b[0;34m(\u001b[0m\u001b[0mkey\u001b[0m\u001b[0;34m)\u001b[0m\u001b[0;34m\u001b[0m\u001b[0;34m\u001b[0m\u001b[0m\n\u001b[1;32m     24\u001b[0m         \u001b[0;31m#key不存在，未冲突\u001b[0m\u001b[0;34m\u001b[0m\u001b[0;34m\u001b[0m\u001b[0;34m\u001b[0m\u001b[0m\n",
      "\u001b[0;31mException\u001b[0m: table slots are full filled"
     ]
    }
   ],
   "source": [
    "for i in range(20):\n",
    "    ht[f\"{i}\"] = i"
   ]
  },
  {
   "cell_type": "code",
   "execution_count": 14,
   "metadata": {},
   "outputs": [
    {
     "data": {
      "text/plain": [
       "1"
      ]
     },
     "execution_count": 14,
     "metadata": {},
     "output_type": "execute_result"
    }
   ],
   "source": [
    "ht[\"1\"]"
   ]
  },
  {
   "cell_type": "code",
   "execution_count": 15,
   "metadata": {},
   "outputs": [
    {
     "data": {
      "text/plain": [
       "[7, 8, 9, 10, 0, 1, 2, 3, 4, 5, 6]"
      ]
     },
     "execution_count": 15,
     "metadata": {},
     "output_type": "execute_result"
    }
   ],
   "source": [
    "ht.data"
   ]
  },
  {
   "cell_type": "code",
   "execution_count": 16,
   "metadata": {},
   "outputs": [
    {
     "data": {
      "text/plain": [
       "['7', '8', '9', '10', '0', '1', '2', '3', '4', '5', '6']"
      ]
     },
     "execution_count": 16,
     "metadata": {},
     "output_type": "execute_result"
    }
   ],
   "source": [
    "ht.slots"
   ]
  },
  {
   "cell_type": "markdown",
   "metadata": {},
   "source": [
    "## 4、队列（queue）"
   ]
  },
  {
   "cell_type": "code",
   "execution_count": 22,
   "metadata": {},
   "outputs": [
    {
     "name": "stdout",
     "output_type": "stream",
     "text": [
      "Average Wait  32.67 secs   1 tasks remaining\n",
      "Average Wait  14.00 secs   0 tasks remaining\n",
      "Average Wait   8.38 secs   0 tasks remaining\n",
      "Average Wait 248.75 secs   6 tasks remaining\n",
      "Average Wait 112.05 secs   0 tasks remaining\n",
      "Average Wait  69.77 secs   0 tasks remaining\n",
      "Average Wait 137.00 secs   2 tasks remaining\n",
      "Average Wait  11.44 secs   0 tasks remaining\n",
      "Average Wait  42.19 secs   0 tasks remaining\n",
      "Average Wait 101.30 secs   1 tasks remaining\n"
     ]
    }
   ],
   "source": [
    "#队列\n",
    "import random\n",
    "class Queue:\n",
    "    def __init__(self):\n",
    "        self.items=[]#产生一个对列\n",
    "    def isEmpty(self):\n",
    "        return self.items==[]   #判断对列是否为空\n",
    "    def enqueue(self,item):\n",
    "        return self.items.insert(0,item)#将数据项item添加到队尾\n",
    "    def dequeue(self):\n",
    "        return self.items.pop()#从队首移除数据项\n",
    "    def size(self):\n",
    "        return len(self.items)#返回对列的大小\n",
    "#打印机\n",
    "class Printer:\n",
    "    def __init__(self,ppm):#ppm打印速度\n",
    "        self.pagerate=ppm\n",
    "        self.currentTask=None#当前打印任务\n",
    "        self.timeRemaining=0#任务倒计时\n",
    "    def tick(self):#打印1秒\n",
    "        if self.currentTask !=None:\n",
    "            self.timeRemaining=self.timeRemaining-1\n",
    "            if self.timeRemaining<=0:#倒计时小于等于0\n",
    "                self.currentTask=None#当前没有打印任务\n",
    "    def busy(self):#判断打印机是否正忙\n",
    "        if self.currentTask !=None:#当currentTask不为None,表示打印机正忙，返回True\n",
    "            return True\n",
    "        else:\n",
    "            return False\n",
    "    def startNext(self,newtask):#打印新作业\n",
    "        self.currentTask=newtask\n",
    "        self.timeRemaining=newtask.getPages()*60/self.pagerate\n",
    "#打印任务    \n",
    "class Task:\n",
    "    def __init__(self,time):\n",
    "        self.timestamp=time#生成时间戳\n",
    "        self.pages=random.randrange(1,21)#随机生成打印的页数\n",
    "    def getStamp(self):\n",
    "        return self.timestamp\n",
    "    def getPages(self):\n",
    "        return self.pages\n",
    "    def waitTime(self,currenttime):#等待时间\n",
    "        return currenttime-self.timestamp\n",
    "\n",
    "def newPrintTask():\n",
    "    num=random.randrange(1,181)\n",
    "    if num==180:\n",
    "        return True #1/180概率生成作业\n",
    "    else:\n",
    "        return False\n",
    "#模拟    \n",
    "def simulation(numSeconds,pagesPerMinute):\n",
    "    labprinter=Printer(pagesPerMinute)\n",
    "    printQueue=Queue()#产生一个空队列\n",
    "    waitingtimes=[]#等待时间\n",
    "    for currentSecond in range(numSeconds):\n",
    "        #时间流逝\n",
    "        if newPrintTask():\n",
    "            task=Task(currentSecond)\n",
    "            printQueue.enqueue(task)\n",
    "#             print(printQueue.size())\n",
    "        if (not labprinter.busy()) and (not printQueue.isEmpty()):\n",
    "            nexttask=printQueue.dequeue()\n",
    "            waitingtimes.append(nexttask.waitTime(currentSecond))\n",
    "            labprinter.startNext(nexttask)\n",
    "        labprinter.tick()\n",
    "        \n",
    "    averageWait=sum(waitingtimes)/len(waitingtimes)\n",
    "    print(\"Average Wait %6.2f secs %3d tasks remaining\"%(averageWait,printQueue.size()))\n",
    "    \n",
    "for i in range(10):\n",
    "    simulation(3600,5)\n"
   ]
  },
  {
   "cell_type": "code",
   "execution_count": null,
   "metadata": {},
   "outputs": [],
   "source": []
  }
 ],
 "metadata": {
  "kernelspec": {
   "display_name": "Python 3",
   "language": "python",
   "name": "python3"
  },
  "language_info": {
   "codemirror_mode": {
    "name": "ipython",
    "version": 3
   },
   "file_extension": ".py",
   "mimetype": "text/x-python",
   "name": "python",
   "nbconvert_exporter": "python",
   "pygments_lexer": "ipython3",
   "version": "3.7.9"
  }
 },
 "nbformat": 4,
 "nbformat_minor": 4
}
