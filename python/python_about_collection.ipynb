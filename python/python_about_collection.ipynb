{
 "cells": [
  {
   "cell_type": "markdown",
   "metadata": {},
   "source": [
    "## collections"
   ]
  },
  {
   "cell_type": "markdown",
   "metadata": {},
   "source": [
    "## 1. namedtuple"
   ]
  },
  {
   "cell_type": "code",
   "execution_count": 1,
   "metadata": {},
   "outputs": [
    {
     "data": {
      "text/plain": [
       "1"
      ]
     },
     "execution_count": 1,
     "metadata": {},
     "output_type": "execute_result"
    }
   ],
   "source": [
    "from collections import namedtuple\n",
    "Point = namedtuple('Point', ['x', 'y'])\n",
    "p = Point(1, 2)\n",
    "p.x"
   ]
  },
  {
   "cell_type": "markdown",
   "metadata": {},
   "source": [
    "## 2. deque"
   ]
  },
  {
   "cell_type": "code",
   "execution_count": 2,
   "metadata": {},
   "outputs": [
    {
     "data": {
      "text/plain": [
       "deque(['y', 'a', 'b', 'c', 'x'])"
      ]
     },
     "execution_count": 2,
     "metadata": {},
     "output_type": "execute_result"
    }
   ],
   "source": [
    "from collections import deque\n",
    "q = deque(['a', 'b', 'c'])\n",
    "q.append('x')\n",
    "q.appendleft('y')\n",
    "q"
   ]
  },
  {
   "cell_type": "markdown",
   "metadata": {},
   "source": [
    "## 3. defaultdict"
   ]
  },
  {
   "cell_type": "code",
   "execution_count": 3,
   "metadata": {},
   "outputs": [
    {
     "name": "stdout",
     "output_type": "stream",
     "text": [
      "abc\n",
      "N/A\n"
     ]
    }
   ],
   "source": [
    "from collections import defaultdict\n",
    "dd = defaultdict(lambda: 'N/A')\n",
    "dd['key1'] = 'abc'\n",
    "print(dd['key1']) # key1存在\n",
    "\n",
    "print(dd['key2']) # key2不存在，返回默认值"
   ]
  },
  {
   "cell_type": "markdown",
   "metadata": {},
   "source": [
    "## 4. OrderedDict"
   ]
  },
  {
   "cell_type": "code",
   "execution_count": 4,
   "metadata": {},
   "outputs": [
    {
     "name": "stdout",
     "output_type": "stream",
     "text": [
      "d: {'a': 1, 'b': 2, 'c': 3}\n",
      "od: OrderedDict([('a', 1), ('b', 2), ('c', 3)])\n",
      "['z', 'y', 'x']\n"
     ]
    }
   ],
   "source": [
    "from collections import OrderedDict\n",
    "d = dict([('a', 1), ('b', 2), ('c', 3)])\n",
    "print('d:',d) # dict的Key是无序的\n",
    "od = OrderedDict([('a', 1), ('b', 2), ('c', 3)])\n",
    "print('od:',od) # OrderedDict的Key是有序的\n",
    "\n",
    "#注意，OrderedDict的Key会按照插入的顺序排列，不是Key本身排序:\n",
    "od = OrderedDict()\n",
    "od['z'] = 1\n",
    "od['y'] = 2\n",
    "od['x'] = 3\n",
    "print(list(od.keys()))# 按照插入的Key的顺序返回"
   ]
  },
  {
   "cell_type": "markdown",
   "metadata": {},
   "source": [
    " OrderedDict可以实现一个FIFO（先进先出）的dict，当容量超出限制时，先删除最早添加的Key："
   ]
  },
  {
   "cell_type": "code",
   "execution_count": 5,
   "metadata": {},
   "outputs": [
    {
     "name": "stdout",
     "output_type": "stream",
     "text": [
      "add: (1, 1)\n",
      "add: (2, 1)\n",
      "add: (3, 1)\n",
      "add: (4, 1)\n",
      "add: (5, 1)\n"
     ]
    }
   ],
   "source": [
    "from collections import OrderedDict\n",
    "\n",
    "class LastUpdatedOrderedDict(OrderedDict):\n",
    "\n",
    "    def __init__(self, capacity):\n",
    "        super(LastUpdatedOrderedDict, self).__init__()\n",
    "        self._capacity = capacity\n",
    "\n",
    "    def __setitem__(self, key, value):\n",
    "        containsKey = 1 if key in self else 0\n",
    "        if len(self) - containsKey >= self._capacity:\n",
    "            last = self.popitem(last=False)\n",
    "            print('remove:', last)\n",
    "        if containsKey:\n",
    "            del self[key]\n",
    "            print('set:', (key, value))\n",
    "        else:\n",
    "            print('add:', (key, value))\n",
    "        OrderedDict.__setitem__(self, key, value)\n",
    "\n",
    "l_order_dict = LastUpdatedOrderedDict(5)\n",
    "l_order_dict[1] = 1\n",
    "l_order_dict[2] = 1\n",
    "l_order_dict[3] = 1\n",
    "l_order_dict[4] = 1\n",
    "l_order_dict[5] = 1"
   ]
  },
  {
   "cell_type": "code",
   "execution_count": 6,
   "metadata": {},
   "outputs": [
    {
     "name": "stdout",
     "output_type": "stream",
     "text": [
      "remove: (1, 1)\n",
      "add: (6, 1)\n"
     ]
    }
   ],
   "source": [
    "l_order_dict[6] = 1"
   ]
  },
  {
   "cell_type": "markdown",
   "metadata": {},
   "source": [
    "## 5. chainmap"
   ]
  },
  {
   "cell_type": "code",
   "execution_count": 10,
   "metadata": {},
   "outputs": [
    {
     "name": "stdout",
     "output_type": "stream",
     "text": [
      "b: ChainMap({}, {'x': 1})\n",
      "b: ChainMap({'x': 2}, {'x': 1})\n",
      "b: ChainMap({'x': 2, 'y': 3}, {'x': 1})\n",
      "a: ChainMap({'x': 1})\n",
      "c: ChainMap({}, {'x': 1})\n",
      "c[\"x\"]: 1\n",
      "c: ChainMap({'y': 1}, {'x': 1})\n",
      "d: ChainMap({'x': 1})\n",
      "d is a: False\n",
      "d == a: True\n"
     ]
    }
   ],
   "source": [
    "from collections import ChainMap\n",
    "\n",
    "a = ChainMap()\n",
    "a[\"x\"]=1\n",
    "\n",
    "b = a.new_child()\n",
    "print('b:',b)\n",
    "\n",
    "b[\"x\"] = 2\n",
    "print('b:',b)\n",
    "\n",
    "b[\"y\"] = 3\n",
    "print('b:', b)\n",
    "\n",
    "print('a:', a)\n",
    "\n",
    "c = a.new_child()\n",
    "print('c:', c)\n",
    "\n",
    "print('c[\"x\"]:',c[\"x\"])\n",
    "c[\"y\"] = 1\n",
    "print('c:', c)\n",
    "\n",
    "\n",
    "d = c.parents\n",
    "print('d:', d)\n",
    "\n",
    "print('d is a:',d is a)\n",
    "\n",
    "print('d == a:',d == a)"
   ]
  },
  {
   "cell_type": "markdown",
   "metadata": {},
   "source": [
    "## 6. Counter"
   ]
  },
  {
   "cell_type": "code",
   "execution_count": 1,
   "metadata": {},
   "outputs": [
    {
     "data": {
      "text/plain": [
       "Counter({'p': 1, 'r': 2, 'o': 1, 'g': 2, 'a': 1, 'm': 2, 'i': 1, 'n': 1})"
      ]
     },
     "execution_count": 1,
     "metadata": {},
     "output_type": "execute_result"
    }
   ],
   "source": [
    "from collections import Counter\n",
    "c = Counter()\n",
    "for ch in 'programming':\n",
    "    c[ch] = c[ch] + 1\n",
    "c"
   ]
  }
 ],
 "metadata": {
  "kernelspec": {
   "display_name": "Python 3",
   "language": "python",
   "name": "python3"
  },
  "language_info": {
   "codemirror_mode": {
    "name": "ipython",
    "version": 3
   },
   "file_extension": ".py",
   "mimetype": "text/x-python",
   "name": "python",
   "nbconvert_exporter": "python",
   "pygments_lexer": "ipython3",
   "version": "3.7.9"
  }
 },
 "nbformat": 4,
 "nbformat_minor": 4
}
